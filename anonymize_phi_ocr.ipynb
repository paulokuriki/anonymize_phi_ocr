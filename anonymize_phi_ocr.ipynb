{
  "cells": [
    {
      "cell_type": "markdown",
      "metadata": {
        "id": "view-in-github",
        "colab_type": "text"
      },
      "source": [
        "<a href=\"https://colab.research.google.com/github/paulokuriki/anonymize_phi_ocr/blob/main/anonymize_phi_ocr.ipynb\" target=\"_parent\"><img src=\"https://colab.research.google.com/assets/colab-badge.svg\" alt=\"Open In Colab\"/></a>"
      ]
    },
    {
      "cell_type": "markdown",
      "source": [
        "# Searches for Patients' Protected Health Information (PHI) burned in images, drawing rectangles to cover them\n",
        "\n",
        "Disclaimer: As with all automated techniques, identifying PHI is subject to failures.\n",
        "A human double-check is always advisable."
      ],
      "metadata": {
        "id": "kb5dGENUT10z"
      },
      "id": "kb5dGENUT10z"
    },
    {
      "cell_type": "markdown",
      "source": [
        "<img src=\"https://raw.githubusercontent.com/paulokuriki/anonymize_phi_ocr/main/sample_512.png\">"
      ],
      "metadata": {
        "id": "Yp7_lxRqWfeO"
      },
      "id": "Yp7_lxRqWfeO"
    },
    {
      "cell_type": "code",
      "execution_count": null,
      "id": "f51de508-d751-417e-8a87-c2b23877415c",
      "metadata": {
        "tags": [],
        "id": "f51de508-d751-417e-8a87-c2b23877415c"
      },
      "outputs": [],
      "source": [
        "# installing tesseract-ocr\n",
        "!add-apt-repository -y ppa:alex-p/tesseract-ocr\n",
        "!apt update\n",
        "!apt install -y tesseract-ocr\n",
        "\n",
        "# removing tesseract-ocr (optional)\n",
        "#!sudo add-apt-repository ppa:alex-p/tesseract-ocr -r -y\n",
        "#!apt remove tesseract-ocr --auto-remove"
      ]
    },
    {
      "cell_type": "code",
      "execution_count": null,
      "id": "34a8d19a-60ae-4230-9713-1d6884d4019f",
      "metadata": {
        "tags": [],
        "id": "34a8d19a-60ae-4230-9713-1d6884d4019f"
      },
      "outputs": [],
      "source": [
        "pip install pytesseract"
      ]
    },
    {
      "cell_type": "markdown",
      "source": [
        "# STOP!\n",
        "### After tesseract-ocr was installed above, it's important to restart the kernel at this point to get it loaded correctly.\n",
        "\n",
        "### The restart should be done only once"
      ],
      "metadata": {
        "id": "WuPnQFj_BG-w"
      },
      "id": "WuPnQFj_BG-w"
    },
    {
      "cell_type": "code",
      "execution_count": null,
      "id": "cf4663ec-5e90-4ec1-aa35-9839a2e89b34",
      "metadata": {
        "tags": [],
        "id": "cf4663ec-5e90-4ec1-aa35-9839a2e89b34"
      },
      "outputs": [],
      "source": [
        "import os\n",
        "import glob\n",
        "import time\n",
        "import multiprocessing\n",
        "from multiprocessing import Pool\n",
        "\n",
        "import cv2\n",
        "import numpy as np\n",
        "import pandas as pd\n",
        "from scipy import stats\n",
        "import matplotlib.pyplot as plt\n",
        "from tqdm.contrib.concurrent import process_map\n",
        "from tqdm import tqdm\n",
        "\n",
        "import pytesseract\n",
        "from pytesseract import Output"
      ]
    },
    {
      "cell_type": "code",
      "execution_count": null,
      "id": "878207eb-4754-4d47-934f-b2a73f321ef3",
      "metadata": {
        "tags": [],
        "id": "878207eb-4754-4d47-934f-b2a73f321ef3"
      },
      "outputs": [],
      "source": [
        "# preview during processing\n",
        "preview_images = True\n",
        "\n",
        "# uses multiple cores to speed up processing. \n",
        "# depending on the number of cores it runs much, much faster\n",
        "# note: when using multiprocessing, the preview option will be disabled\n",
        "use_multiprocessing = False\n",
        "\n",
        "# folder containing the orginal png files\n",
        "reading_path = '.'\n",
        "\n",
        "# folder where anonymized images will be saved to\n",
        "export_path = './ocr_processed'\n",
        "\n",
        "# final processing report \n",
        "ocr_report_csv = 'ocr_report.csv'\n",
        "\n",
        "# defines the border thickness around the text anonymized\n",
        "border = 40\n",
        "\n",
        "if not os.path.exists(export_path):\n",
        "    os.makedirs(export_path)"
      ]
    },
    {
      "cell_type": "code",
      "execution_count": null,
      "id": "2431036d-143f-4d7f-823d-9e058f510080",
      "metadata": {
        "tags": [],
        "id": "2431036d-143f-4d7f-823d-9e058f510080"
      },
      "outputs": [],
      "source": [
        "def calculate_mode(img):\n",
        "    # Calculate mode for each channel separately\n",
        "    blue_mode = float(stats.mode(img[:, :, 0], axis=None).mode[0])\n",
        "    green_mode = float(stats.mode(img[:, :, 1], axis=None).mode[0])\n",
        "    red_mode = float(stats.mode(img[:, :, 2], axis=None).mode[0])\n",
        "\n",
        "    mode = np.array([blue_mode, green_mode, red_mode])\n",
        "    \n",
        "    return mode\n",
        "\n",
        "\n",
        "def search_and_anonymize(file):\n",
        "    img = cv2.imread(file)\n",
        "    \n",
        "    # these are some color sugestions for drawing the cv2.rectangle\n",
        "    mean_color = np.mean(img, axis=(0, 1))\n",
        "    median_color = np.median(img, axis=(0, 1))\n",
        "    mode_color = calculate_mode(img)\n",
        "    black_color = (0, 0, 0)\n",
        "\n",
        "    # searches for the text into the image\n",
        "    d = pytesseract.image_to_data(img, output_type=Output.DICT)\n",
        "    \n",
        "    # optional preview\n",
        "    if preview_images and not use_multiprocessing:\n",
        "        plt.imshow(img, cmap='gray')\n",
        "        plt.show()\n",
        "    \n",
        "    ocr_text_extracted = ''\n",
        "    for i, text in enumerate(d['text']):\n",
        "        if text.strip() != '':           \n",
        "            ocr_text_extracted = ocr_text_extracted + text.strip() + ' '\n",
        "            \n",
        "            left = d['left'][i]\n",
        "            top = d['top'][i]\n",
        "            width = d['width'][i]\n",
        "            height = d['height'][i]\n",
        "        \n",
        "            # draws a filled rectangle around the text\n",
        "            cv2.rectangle(img, (left - border, top - border), \n",
        "                          (left + width + border, top + height + border), \n",
        "                          mode_color, -1)\n",
        "    \n",
        "    # defines png export filename\n",
        "    png_file = os.path.join(export_path, os.path.basename(file))\n",
        "    \n",
        "    # if a text was found, save exported image\n",
        "    if ocr_text_extracted:\n",
        "        f, axarr = plt.subplots(1, 1)\n",
        "        axarr.axis('off')\n",
        "    \n",
        "        plt.imsave(png_file, img, cmap='gray')\n",
        "        plt.close()        \n",
        "        \n",
        "        # optional preview\n",
        "        if preview_images and not use_multiprocessing:\n",
        "            plt.imshow(img, cmap='gray')\n",
        "            plt.show()\n",
        "            \n",
        "    return (file, png_file, ocr_text_extracted)"
      ]
    },
    {
      "cell_type": "code",
      "execution_count": null,
      "id": "d4df84c0-ad84-432a-835d-a279093dfdbb",
      "metadata": {
        "tags": [],
        "id": "d4df84c0-ad84-432a-835d-a279093dfdbb"
      },
      "outputs": [],
      "source": [
        "start = time.time()\n",
        "\n",
        "print('Searching for images...')\n",
        "files = glob.glob(os.path.join(reading_path, '*.png'))\n",
        "print('Processing OCR...')\n",
        "\n",
        "if use_multiprocessing:\n",
        "    # runs as multiprocessing\n",
        "    results = process_map(search_and_anonymize, files, max_workers=multiprocessing.cpu_count())\n",
        "\n",
        "else:\n",
        "    # runs individually, possibly to preview images\n",
        "    results = []\n",
        "    for file in files:\n",
        "        r = search_and_anonymize(file)\n",
        "        results.append(r)\n",
        "\n",
        "processed = {}\n",
        "processed['original_image'] = [r[0] for r in results] \n",
        "processed['processed_image'] = [r[1] for r in results] \n",
        "processed['ocr_text_extracted'] = [r[2] for r in results]"
      ]
    },
    {
      "cell_type": "code",
      "execution_count": null,
      "id": "9720a694-d263-48be-8fe1-d135539d4a80",
      "metadata": {
        "tags": [],
        "id": "9720a694-d263-48be-8fe1-d135539d4a80"
      },
      "outputs": [],
      "source": [
        "# saves the report as a csv\n",
        "df = pd.DataFrame(processed)\n",
        "df.sort_values(by=['original_image'], inplace=True)\n",
        "df.reset_index(drop=True, inplace=True)\n",
        "df.to_csv(ocr_report_csv, index=False)\n",
        "\n",
        "print(\"Finished in\", time.time() - start, 'secs')\n",
        "print('CSV report saved to file:', ocr_report_csv)\n",
        "df"
      ]
    },
    {
      "cell_type": "markdown",
      "source": [
        "### Kudos to Filip Zelic & Anuj Sable for the Tesseract Code\n",
        "https://nanonets.com/blog/ocr-with-tesseract/"
      ],
      "metadata": {
        "id": "BEmKXnUOUkqX"
      },
      "id": "BEmKXnUOUkqX"
    }
  ],
  "metadata": {
    "kernelspec": {
      "display_name": "Python 3 (ipykernel)",
      "language": "python",
      "name": "python3"
    },
    "language_info": {
      "codemirror_mode": {
        "name": "ipython",
        "version": 3
      },
      "file_extension": ".py",
      "mimetype": "text/x-python",
      "name": "python",
      "nbconvert_exporter": "python",
      "pygments_lexer": "ipython3",
      "version": "3.8.10"
    },
    "colab": {
      "provenance": [],
      "include_colab_link": true
    }
  },
  "nbformat": 4,
  "nbformat_minor": 5
}